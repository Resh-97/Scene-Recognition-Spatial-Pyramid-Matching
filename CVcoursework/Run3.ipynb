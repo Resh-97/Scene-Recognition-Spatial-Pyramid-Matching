{
 "cells": [
  {
   "cell_type": "code",
   "execution_count": 32,
   "id": "a34d435e",
   "metadata": {
    "id": "a34d435e"
   },
   "outputs": [],
   "source": [
    "import cv2\n",
    "import numpy as np\n",
    "import os\n",
    "\n",
    "from sklearn.cluster import KMeans\n",
    "from scipy.cluster.vq import kmeans, vq\n",
    "from sklearn import preprocessing\n",
    "from sklearn.preprocessing import StandardScaler\n",
    "#from yellowbrick.cluster.elbow import kelbow_visualizer\n",
    "from sklearn.linear_model import LogisticRegression\n",
    "\n",
    "import matplotlib.pyplot as plt"
   ]
  },
  {
   "cell_type": "code",
   "execution_count": 2,
   "id": "69f19d5a-4eef-4fa3-84ee-06d533ccfc78",
   "metadata": {},
   "outputs": [],
   "source": [
    "import os\n",
    "import shutil\n",
    "import numpy as np\n",
    "from torchvision import datasets\n",
    "from sklearn.metrics import make_scorer, precision_score\n",
    "\n",
    "# Decorator turns into scorer object to be used with \n",
    "# grid search.\n",
    "@make_scorer\n",
    "def avg_precision(y_true, y_pred):\n",
    "    \"\"\"\n",
    "    Average precision metric.\n",
    "    Computes precision for each class independently\n",
    "    then take average.\n",
    "    Args:\n",
    "        y_true (numpy.array): array of true y values. \n",
    "        y_pred(numpy.array): array of predicted y values.\n",
    "    Returns:\n",
    "        (float) average precision.\n",
    "    \n",
    "    \"\"\"\n",
    "    precision=[]\n",
    "    for idx, label in enumerate(np.unique(y_true)):\n",
    "        precision.append(precision_score(y_true == label, y_pred == label))\n",
    "    return np.mean(precision)\n",
    "\n",
    "\n",
    "def create_dataset(dir, transform=None, labeled=True):\n",
    "    \"\"\"\n",
    "    Read in data and apply transformation.\n",
    "    Args:\n",
    "        dir (string): path to data folder\n",
    "        transform (torchvision.Transform): transform to apply to data.\n",
    "        labeled (bool): if data is not contained within subfolders indicating\n",
    "            labels then create dummy folder and move data.\n",
    "    Returns:\n",
    "        (torch.Dataset) transformed data.\n",
    "    \"\"\"\n",
    "    if not labeled:\n",
    "        # get file names in folder\n",
    "        file_names = os.listdir(dir)\n",
    "        # create sub folder and move images\n",
    "        target_dir = dir + '/dummy_class/'\n",
    "        os.makedirs(target_dir)\n",
    "        for file_name in file_names:\n",
    "            shutil.move(os.path.join(dir, file_name), target_dir)\n",
    "\n",
    "    dataset = datasets.ImageFolder(dir, transform)\n",
    "    return dataset"
   ]
  },
  {
   "cell_type": "code",
   "execution_count": 3,
   "id": "d88e8de0-792b-4978-8bfc-f18c9f70639d",
   "metadata": {},
   "outputs": [
    {
     "ename": "SyntaxError",
     "evalue": "invalid syntax (<ipython-input-3-0143e700ef55>, line 54)",
     "output_type": "error",
     "traceback": [
      "\u001b[1;36m  File \u001b[1;32m\"<ipython-input-3-0143e700ef55>\"\u001b[1;36m, line \u001b[1;32m54\u001b[0m\n\u001b[1;33m    ZeroMeanTransform(),\u001b[0m\n\u001b[1;37m    ^\u001b[0m\n\u001b[1;31mSyntaxError\u001b[0m\u001b[1;31m:\u001b[0m invalid syntax\n"
     ]
    }
   ],
   "source": [
    "import numpy as np\n",
    "from PIL import Image\n",
    "import cv2\n",
    "from torch import flatten\n",
    "from torchvision import transforms\n",
    "\n",
    "\n",
    "##-------------------------------------- FEATURE EXTRACTION CLASSES -----------------------## \n",
    "class ZeroMeanTransform:\n",
    "    def __call__(self, img):\n",
    "        \"\"\"\n",
    "        Convert image to numpy array, \n",
    "        do any preprocessing you like then \n",
    "        convert back to the PIL Image.\n",
    "        Args:\n",
    "            img(PIL.Image): input image \n",
    "        Returns:\n",
    "            (PIL.Image) processed image\n",
    "        \"\"\"\n",
    "        x = np.array(img, dtype=np.float32)\n",
    "        mean = np.mean(img)\n",
    "        return Image.fromarray((x - mean))\n",
    "\n",
    "class UnitLenTransform:\n",
    "    def __call__(self, img):\n",
    "        \"\"\"\n",
    "        Convert image to numpy array, \n",
    "        do any preprocessing you like then \n",
    "        convert back to the PIL Image.\n",
    "        Args:\n",
    "            img (PIL.Image): input image \n",
    "        Returns:\n",
    "            (PIL.Image) processed image\n",
    "        \"\"\"\n",
    "        x = np.array(img)\n",
    "        cv2.normalize(x, x, alpha=1, dtype=cv2.CV_32F)\n",
    "        return Image.fromarray(x)\n",
    "\n",
    "##------------------------------------------------------------------------------------------##\n",
    "\n",
    "##-------------------------------------- TRANSFORM FUNCTIONS -------------------------------##\n",
    "def run3_transforms(resize=200):\n",
    "    \"\"\"\n",
    "    Compute tiny image feature.\n",
    "    Args:\n",
    "        resize (int): the dimensions of the tiny image.\n",
    "        crop (int): the dimensions of the center cropped array.\n",
    "    Returns:\n",
    "        (numpy.array): Tiny image flattened numpy array. \n",
    "            Dimensions are (num input samples, resize x resize) \n",
    "    \"\"\"\n",
    "    return transforms.Compose([transforms.Grayscale(num_output_channels=1),\n",
    "                               transforms.Resize(resize)\n",
    "                               ZeroMeanTransform(),\n",
    "                               UnitLenTransform(),\n",
    "                               transforms.ToTensor(),\n",
    "                               transforms.Lambda(lambda x: x.view(-1))])\n",
    "\n",
    "##-------------------------------------------------------------------------------------------##"
   ]
  },
  {
   "cell_type": "code",
   "execution_count": 4,
   "id": "a8026a9d",
   "metadata": {
    "id": "a8026a9d"
   },
   "outputs": [],
   "source": [
    "def imglist(path):\n",
    "    return [os.path.join(path, f) for f in os.listdir(path)]"
   ]
  },
  {
   "cell_type": "code",
   "execution_count": 5,
   "id": "1c3ad889",
   "metadata": {
    "id": "1c3ad889"
   },
   "outputs": [],
   "source": [
    "def descriptorFormation(descriptor_list):\n",
    "    descriptors = descriptor_list[0][1]\n",
    "    img_count=0\n",
    "    #Stacking\n",
    "    for image_path, descriptor in descriptor_list[1:]:\n",
    "        img_count+=1\n",
    "        #Array of all features\n",
    "        descriptors = np.vstack((descriptors, descriptor))\n",
    "        #print(\"Stacking of Descriptors of image {} complete......\".format(img_count))\n",
    "    print(\"Descriptors stacked successfully!\")\n",
    "    descriptors_float = descriptors.astype(float)\n",
    "    return(descriptors_float)"
   ]
  },
  {
   "cell_type": "code",
   "execution_count": 43,
   "id": "aa83c327",
   "metadata": {
    "id": "aa83c327"
   },
   "outputs": [],
   "source": [
    "def getDescriptors(image_paths):\n",
    "    descriptor_list = []\n",
    "    img_count=0\n",
    "    \n",
    "    for image_path in image_paths:\n",
    "        im = cv2.imread(image_path, cv2.IMREAD_GRAYSCALE)\n",
    "        m, n = im.shape\n",
    "        sift = cv2.SIFT_create()\n",
    "        step_size = 5\n",
    "        kp = [cv2.KeyPoint(x, y, size=step_size, octave=2) \n",
    "                  for y in range(0, m, step_size) \n",
    "                  for x in range(0, n, step_size)]\n",
    "        _, dense_feat = sift.compute(im, kp)\n",
    "        descriptor_list.append((image_path, dense_feat))\n",
    "        img_count += 1\n",
    "        #print(\"Extraction done for \" + str(img_count))\n",
    "    \n",
    "    print(\"Feature extraction done!\")\n",
    "    return(descriptor_list)"
   ]
  },
  {
   "cell_type": "code",
   "execution_count": 7,
   "id": "6845b514-e83c-4831-84c1-b1931c3eab50",
   "metadata": {},
   "outputs": [],
   "source": [
    "train_path = 'images/training'\n",
    "training_names = os.listdir(train_path)\n",
    "image_paths = []\n",
    "#Class label for all images\n",
    "image_classes = []\n",
    "class_id = 0\n",
    "labelMap = {}\n",
    "\n",
    "for training_name in training_names:\n",
    "    labelMap[class_id] = training_name\n",
    "    dir = os.path.join(train_path, training_name)\n",
    "    class_path = imglist(dir)\n",
    "    image_paths+=class_path\n",
    "    image_classes+=[class_id]*len(class_path)\n",
    "    class_id+=1"
   ]
  },
  {
   "cell_type": "code",
   "execution_count": 8,
   "id": "c9769281",
   "metadata": {
    "id": "c9769281"
   },
   "outputs": [],
   "source": [
    "def quantisation(image_paths, descriptor_list, k, codebook, scaler):\n",
    "    im_features = np.zeros((len(image_paths), k), \"float32\")\n",
    "    for i in range(len(image_paths)):\n",
    "        descriptors = scaler.transform(descriptor_list[i][1])\n",
    "        codes, distances = vq(descriptors, codebook)\n",
    "        for code in codes:\n",
    "            im_features[i][code] += 1\n",
    "    return(im_features)       "
   ]
  },
  {
   "cell_type": "markdown",
   "id": "3e31ebb7-b136-458c-8f6e-d9f3b9320fc2",
   "metadata": {},
   "source": [
    "## Feature Extraction and Selection"
   ]
  },
  {
   "cell_type": "code",
   "execution_count": 9,
   "id": "0f973902",
   "metadata": {
    "colab": {
     "base_uri": "https://localhost:8080/"
    },
    "id": "0f973902",
    "outputId": "0f05245e-d84a-464b-f8e7-acb2d4a06dda"
   },
   "outputs": [],
   "source": [
    "train_path = 'images/training'\n",
    "training_names = os.listdir(train_path)\n",
    "image_paths = []\n",
    "#Class label for all images\n",
    "image_classes = []\n",
    "class_id = 0\n",
    "labelMap = {}\n",
    "\n",
    "for training_name in training_names:\n",
    "    labelMap[class_id] = training_name\n",
    "    dir = os.path.join(train_path, training_name)\n",
    "    class_path = imglist(dir)\n",
    "    image_paths+=class_path\n",
    "    image_classes+=[class_id]*len(class_path)\n",
    "    class_id+=1"
   ]
  },
  {
   "cell_type": "code",
   "execution_count": 10,
   "id": "6cf98638-1821-4b69-a905-b5b4aea6da90",
   "metadata": {},
   "outputs": [
    {
     "name": "stdout",
     "output_type": "stream",
     "text": [
      "Feature extraction done!\n"
     ]
    }
   ],
   "source": [
    "descriptor_list = getDescriptors(image_paths)"
   ]
  },
  {
   "cell_type": "code",
   "execution_count": 11,
   "id": "b164cc03-0978-4a10-8f7a-7fbfdbc97e43",
   "metadata": {
    "colab": {
     "base_uri": "https://localhost:8080/"
    },
    "id": "b164cc03-0978-4a10-8f7a-7fbfdbc97e43",
    "outputId": "1cc26d81-122a-4428-809a-9b5ac82fedd2"
   },
   "outputs": [
    {
     "name": "stdout",
     "output_type": "stream",
     "text": [
      "Descriptors stacked successfully!\n"
     ]
    }
   ],
   "source": [
    "descriptors_float = descriptorFormation(descriptor_list)"
   ]
  },
  {
   "cell_type": "code",
   "execution_count": 12,
   "id": "4b60cc2f-a4b5-4d21-a697-ae94108fd893",
   "metadata": {
    "colab": {
     "base_uri": "https://localhost:8080/"
    },
    "id": "4b60cc2f-a4b5-4d21-a697-ae94108fd893",
    "outputId": "e3773a68-4516-4af1-d793-61a5007df140"
   },
   "outputs": [
    {
     "name": "stdout",
     "output_type": "stream",
     "text": [
      "4060424\n"
     ]
    }
   ],
   "source": [
    "print(len(descriptors_float))"
   ]
  },
  {
   "cell_type": "code",
   "execution_count": 13,
   "id": "tw5UQLm0C2yW",
   "metadata": {
    "id": "tw5UQLm0C2yW"
   },
   "outputs": [],
   "source": [
    "#Normalising patches\n",
    "scaler = StandardScaler()\n",
    "normalised_descriptors = scaler.fit_transform(descriptors_float)"
   ]
  },
  {
   "cell_type": "code",
   "execution_count": 14,
   "id": "8afAozfTEEcM",
   "metadata": {
    "id": "8afAozfTEEcM"
   },
   "outputs": [],
   "source": [
    "#Sample descriptors\n",
    "sampled_descriptors = normalised_descriptors[np.random.choice(normalised_descriptors.shape[0], 500000, replace=False), :]\n",
    "\n",
    "sampled_descriptors_for_gs = normalised_descriptors[np.random.choice(normalised_descriptors.shape[0], 10000, replace=False), :]"
   ]
  },
  {
   "cell_type": "code",
   "execution_count": 27,
   "id": "eb71e9c3-95c9-49e3-8f75-5ac6c3a7f8df",
   "metadata": {},
   "outputs": [
    {
     "name": "stdout",
     "output_type": "stream",
     "text": [
      "10000\n"
     ]
    }
   ],
   "source": [
    "print(sampled_descriptors_for_gs.shape[0])"
   ]
  },
  {
   "cell_type": "code",
   "execution_count": 28,
   "id": "5bb63241-c94d-4f46-8710-62d10db0b679",
   "metadata": {},
   "outputs": [
    {
     "data": {
      "image/png": "[encoded data removed]",
      "text/plain": [
       "<Figure size 432x288 with 1 Axes>"
      ]
     },
     "metadata": {
      "needs_background": "light"
     },
     "output_type": "display_data"
    }
   ],
   "source": [
    "weighted_ssd = {}\n",
    "\n",
    "for k in range(100, 1000, 100):\n",
    "    kmeans = KMeans(n_clusters=k, max_iter=1000).fit(sampled_descriptors_for_gs)\n",
    "    weighted_ssd[k] = kmeans.inertia_/sampled_descriptors_for_gs.shape[0]\n",
    "\n",
    "\n",
    "plt.figure()\n",
    "plt.plot(list(weighted_ssd.keys()), list(weighted_ssd.values()))\n",
    "plt.xlabel(\"Number of clusters\")\n",
    "plt.ylabel(\"Avg weighted SSD\")\n",
    "plt.show()"
   ]
  },
  {
   "cell_type": "code",
   "execution_count": 34,
   "id": "acf6a7ef",
   "metadata": {
    "id": "acf6a7ef"
   },
   "outputs": [],
   "source": [
    "# Create codebook\n",
    "k = 500\n",
    "voc, variance = kmeans(sampled_descriptors, k, 1)"
   ]
  },
  {
   "cell_type": "code",
   "execution_count": 35,
   "id": "f8f2f192",
   "metadata": {
    "id": "f8f2f192",
    "tags": []
   },
   "outputs": [],
   "source": [
    "# Quantisation of features to compute histogram of visual words\n",
    "im_features = quantisation(image_paths,descriptor_list, k, voc, scaler)"
   ]
  },
  {
   "cell_type": "markdown",
   "id": "8f55f7da",
   "metadata": {
    "id": "8f55f7da"
   },
   "source": [
    "## One-vs-Rest Classifier"
   ]
  },
  {
   "cell_type": "code",
   "execution_count": 36,
   "id": "e13ff609-7105-4398-8d37-c9310333f6d3",
   "metadata": {},
   "outputs": [],
   "source": [
    "# Scaling features for classifier\n",
    "min_max_scaler = preprocessing.MinMaxScaler()\n",
    "im_features_minmax = min_max_scaler.fit_transform(im_features)"
   ]
  },
  {
   "cell_type": "code",
   "execution_count": 37,
   "id": "1eada0ef",
   "metadata": {
    "id": "1eada0ef"
   },
   "outputs": [
    {
     "data": {
      "text/plain": [
       "LogisticRegression(multi_class='ovr')"
      ]
     },
     "execution_count": 37,
     "metadata": {},
     "output_type": "execute_result"
    }
   ],
   "source": [
    "model = LogisticRegression(multi_class='ovr', max_iter=100)\n",
    "model.fit(im_features_minmax, image_classes)"
   ]
  },
  {
   "cell_type": "code",
   "execution_count": 38,
   "id": "64d00fb3-eef7-4609-be97-c00907f3cbe5",
   "metadata": {},
   "outputs": [
    {
     "name": "stdout",
     "output_type": "stream",
     "text": [
      "0.942\n"
     ]
    }
   ],
   "source": [
    "# Training data performance\n",
    "score = model.score(im_features_minmax, image_classes)\n",
    "print(score)"
   ]
  },
  {
   "cell_type": "markdown",
   "id": "6d3284c4",
   "metadata": {
    "id": "6d3284c4"
   },
   "source": [
    "## Test Data Run"
   ]
  },
  {
   "cell_type": "code",
   "execution_count": 44,
   "id": "24dd6011",
   "metadata": {
    "id": "24dd6011"
   },
   "outputs": [
    {
     "name": "stdout",
     "output_type": "stream",
     "text": [
      "Feature extraction done!\n"
     ]
    }
   ],
   "source": [
    "test_path = 'images/testing'\n",
    "testing_names = os.listdir(test_path)\n",
    "\n",
    "test_image_paths = []\n",
    "test_image_classes = []\n",
    "test_image_names = []\n",
    "test_class_id = 0\n",
    "\n",
    "for testing_name in testing_names:\n",
    "    test_dir = os.path.join(test_path, testing_name)\n",
    "    test_image_paths.append(test_dir)\n",
    "    test_image_names.append(testing_name)\n",
    "        \n",
    "test_descriptor_list = getDescriptors(test_image_paths)"
   ]
  },
  {
   "cell_type": "code",
   "execution_count": 45,
   "id": "a3bd3a67",
   "metadata": {
    "id": "a3bd3a67"
   },
   "outputs": [],
   "source": [
    "# Histogram of words and feature scaling\n",
    "test_im_features = quantisation(test_image_paths, test_descriptor_list, k, voc, scaler)\n",
    "test_im_features_minmax = min_max_scaler.transform(test_im_features)"
   ]
  },
  {
   "cell_type": "code",
   "execution_count": 46,
   "id": "c23684e0-0801-43e3-b1bd-9984c3d0c479",
   "metadata": {},
   "outputs": [],
   "source": [
    "pred_labels = model.predict(test_im_features_minmax)"
   ]
  },
  {
   "cell_type": "code",
   "execution_count": 47,
   "id": "ac1c4b53-a5ba-4575-86f1-3bb6bb23f612",
   "metadata": {},
   "outputs": [],
   "source": [
    "# write output to file\n",
    "\n",
    "with open('run3.txt', 'w') as f:\n",
    "    for idx in range(len(test_image_names)):\n",
    "        line = str(test_image_names[idx]) + \" \" + str(labelMap[pred_labels[idx]])\n",
    "        f.write(line)\n",
    "        f.write('\\n')\n",
    "f.close()"
   ]
  },
  {
   "cell_type": "code",
   "execution_count": null,
   "id": "d22852b6-489c-4930-a4e9-051b168a76fd",
   "metadata": {},
   "outputs": [],
   "source": []
  }
 ],
 "metadata": {
  "accelerator": "GPU",
  "colab": {
   "name": "Run2.ipynb",
   "provenance": []
  },
  "kernelspec": {
   "display_name": "Python 3",
   "language": "python",
   "name": "python3"
  },
  "language_info": {
   "codemirror_mode": {
    "name": "ipython",
    "version": 3
   },
   "file_extension": ".py",
   "mimetype": "text/x-python",
   "name": "python",
   "nbconvert_exporter": "python",
   "pygments_lexer": "ipython3",
   "version": "3.8.8"
  }
 },
 "nbformat": 4,
 "nbformat_minor": 5
}
