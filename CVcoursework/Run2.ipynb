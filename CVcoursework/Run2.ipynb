{
 "cells": [
  {
   "cell_type": "code",
   "execution_count": 31,
   "id": "a34d435e",
   "metadata": {
    "id": "a34d435e"
   },
   "outputs": [],
   "source": [
    "import cv2\n",
    "import numpy as np\n",
    "import os\n",
    "\n",
    "from scipy.cluster.vq import kmeans, vq\n",
    "from sklearn import preprocessing\n",
    "from sklearn.preprocessing import StandardScaler\n",
    "\n",
    "from sklearn.linear_model import LogisticRegression"
   ]
  },
  {
   "cell_type": "code",
   "execution_count": 58,
   "id": "cAbj4oXu3-NZ",
   "metadata": {
    "id": "cAbj4oXu3-NZ"
   },
   "outputs": [],
   "source": [
    "#!nvidia-smi\n",
    "#!pip install cupy-cuda112\n",
    "#!pip install cupy\n",
    "#chainer.print_runtime_info()"
   ]
  },
  {
   "cell_type": "code",
   "execution_count": 59,
   "id": "qWCYWllTk9VF",
   "metadata": {
    "colab": {
     "base_uri": "https://localhost:8080/"
    },
    "id": "qWCYWllTk9VF",
    "outputId": "a07c4465-f37f-4108-ddb6-b91ecd13dac9"
   },
   "outputs": [
    {
     "name": "stdout",
     "output_type": "stream",
     "text": [
      "Drive already mounted at /content/drive; to attempt to forcibly remount, call drive.mount(\"/content/drive\", force_remount=True).\n"
     ]
    }
   ],
   "source": [
    "#from google.colab import drive\n",
    "#drive.mount('/content/drive')"
   ]
  },
  {
   "cell_type": "code",
   "execution_count": 2,
   "id": "a8026a9d",
   "metadata": {
    "id": "a8026a9d"
   },
   "outputs": [],
   "source": [
    "def imglist(path):\n",
    "    return [os.path.join(path, f) for f in os.listdir(path)]"
   ]
  },
  {
   "cell_type": "code",
   "execution_count": 3,
   "id": "d7317848",
   "metadata": {
    "id": "d7317848"
   },
   "outputs": [],
   "source": [
    "def getAllRectangles(im_x,im_y,step,window):\n",
    "    \n",
    "    #Initialise Patch Size \n",
    "    minx = 0\n",
    "    maxx = im_x\n",
    "    miny = 0\n",
    "    maxy =im_y\n",
    "    step_x = step\n",
    "    step_y = step\n",
    "    window_width = window\n",
    "    window_height = window\n",
    "    rectangle = [] \n",
    "    x = minx;\n",
    "    y = miny;\n",
    "    hasNext = True\n",
    "\n",
    "    while hasNext:\n",
    "        nextX = x + step_x;\n",
    "        nextY = y;\n",
    "        if (nextX + window_width > maxx):\n",
    "            nextX = minx;\n",
    "            nextY += step_y;\n",
    "        rec_dim = [x, y, window_width, window_height]\n",
    "        #print(rec_patch)\n",
    "        rectangle.append(rec_dim);\n",
    "        x = nextX;\n",
    "        y = nextY;\n",
    "\n",
    "        if (y + window_height > maxy):\n",
    "            hasNext = False\n",
    "    #print(\"All rectangular patches retrieved.......\")\n",
    "    return rectangle"
   ]
  },
  {
   "cell_type": "code",
   "execution_count": 4,
   "id": "44e4b2b6",
   "metadata": {
    "id": "44e4b2b6"
   },
   "outputs": [],
   "source": [
    "def featureExtraction(im, rectangle):\n",
    "    feature = []\n",
    "    for x,y,w,h in rectangle:\n",
    "        patch_img = im[x:x+w,y:y+w]\n",
    "        img_array = np.array(patch_img)\n",
    "        flat_arr = img_array.ravel()\n",
    "        vector = flat_arr.tolist()\n",
    "        feature.append(vector)\n",
    "    return feature"
   ]
  },
  {
   "cell_type": "code",
   "execution_count": 5,
   "id": "1c3ad889",
   "metadata": {
    "id": "1c3ad889"
   },
   "outputs": [],
   "source": [
    "def descriptorFormation(descriptor_list):\n",
    "    descriptors = descriptor_list[0][1]\n",
    "    img_count=0\n",
    "    #Stacking\n",
    "    for image_path, descriptor in descriptor_list[1:]:\n",
    "        img_count+=1\n",
    "        #Array of all features\n",
    "        descriptors = np.vstack((descriptors, descriptor))\n",
    "        #print(\"Stacking of Descriptors of image {} complete......\".format(img_count))\n",
    "    print(\"Descriptors stacked successfully!\")\n",
    "    descriptors_float = descriptors.astype(float)\n",
    "    return(descriptors_float)"
   ]
  },
  {
   "cell_type": "code",
   "execution_count": 6,
   "id": "aa83c327",
   "metadata": {
    "id": "aa83c327"
   },
   "outputs": [],
   "source": [
    "def getDescriptors(image_paths):\n",
    "    descriptor_list = []\n",
    "    img_count=0\n",
    "    \n",
    "    for image_path in image_paths:\n",
    "        img_count+=1\n",
    "        im = cv2.imread(image_path, cv2.IMREAD_GRAYSCALE)\n",
    "        m, n = im.shape\n",
    "        rectangle = getAllRectangles(m,n,4,8) \n",
    "        feature = featureExtraction(im, rectangle)\n",
    "        #print(\"Image features extracted for image {}......\".format(img_count))\n",
    "        descriptor_list.append((image_path, feature))\n",
    "    print(\"Feature extraction done!\")\n",
    "    return(descriptor_list)"
   ]
  },
  {
   "cell_type": "code",
   "execution_count": 15,
   "id": "c9769281",
   "metadata": {
    "id": "c9769281"
   },
   "outputs": [],
   "source": [
    "def quantisation(image_paths, descriptor_list, k, codebook, scaler):\n",
    "    im_features = np.zeros((len(image_paths), k), \"float32\")\n",
    "    for i in range(len(image_paths)):\n",
    "        descriptors = scaler.transform(descriptor_list[i][1])\n",
    "        codes, distances = vq(descriptors, codebook)\n",
    "        for code in codes:\n",
    "            im_features[i][code] += 1\n",
    "    return(im_features)       "
   ]
  },
  {
   "cell_type": "code",
   "execution_count": 8,
   "id": "0f973902",
   "metadata": {
    "colab": {
     "base_uri": "https://localhost:8080/"
    },
    "id": "0f973902",
    "outputId": "0f05245e-d84a-464b-f8e7-acb2d4a06dda"
   },
   "outputs": [
    {
     "name": "stdout",
     "output_type": "stream",
     "text": [
      "Feature extraction done!\n"
     ]
    }
   ],
   "source": [
    "train_path = 'images/training'\n",
    "training_names = os.listdir(train_path)\n",
    "image_paths = []\n",
    "#Class label for all images\n",
    "image_classes = []\n",
    "class_id = 0\n",
    "\n",
    "for training_name in training_names:\n",
    "    dir = os.path.join(train_path, training_name)\n",
    "    class_path = imglist(dir)\n",
    "    image_paths+=class_path\n",
    "    image_classes+=[class_id]*len(class_path)\n",
    "    class_id+=1\n",
    "     \n",
    "descriptor_list = getDescriptors(image_paths)"
   ]
  },
  {
   "cell_type": "code",
   "execution_count": 9,
   "id": "b164cc03-0978-4a10-8f7a-7fbfdbc97e43",
   "metadata": {
    "colab": {
     "base_uri": "https://localhost:8080/"
    },
    "id": "b164cc03-0978-4a10-8f7a-7fbfdbc97e43",
    "outputId": "1cc26d81-122a-4428-809a-9b5ac82fedd2"
   },
   "outputs": [
    {
     "name": "stdout",
     "output_type": "stream",
     "text": [
      "Descriptors stacked successfully!\n"
     ]
    }
   ],
   "source": [
    "descriptors_float = descriptorFormation(descriptor_list)"
   ]
  },
  {
   "cell_type": "code",
   "execution_count": 10,
   "id": "4b60cc2f-a4b5-4d21-a697-ae94108fd893",
   "metadata": {
    "colab": {
     "base_uri": "https://localhost:8080/"
    },
    "id": "4b60cc2f-a4b5-4d21-a697-ae94108fd893",
    "outputId": "e3773a68-4516-4af1-d793-61a5007df140"
   },
   "outputs": [
    {
     "name": "stdout",
     "output_type": "stream",
     "text": [
      "6016463\n"
     ]
    }
   ],
   "source": [
    "print(len(descriptors_float))"
   ]
  },
  {
   "cell_type": "code",
   "execution_count": 11,
   "id": "tw5UQLm0C2yW",
   "metadata": {
    "id": "tw5UQLm0C2yW"
   },
   "outputs": [],
   "source": [
    "#Normalising patches\n",
    "scaler = StandardScaler()\n",
    "normalised_descriptors = scaler.fit_transform(descriptors_float)"
   ]
  },
  {
   "cell_type": "code",
   "execution_count": 12,
   "id": "8afAozfTEEcM",
   "metadata": {
    "id": "8afAozfTEEcM"
   },
   "outputs": [],
   "source": [
    "#Sample descriptors\n",
    "sampled_descriptors = normalised_descriptors[np.random.choice(normalised_descriptors.shape[0], 500000, replace=False), :]"
   ]
  },
  {
   "cell_type": "code",
   "execution_count": 13,
   "id": "acf6a7ef",
   "metadata": {
    "id": "acf6a7ef"
   },
   "outputs": [],
   "source": [
    "k = 500\n",
    "voc, variance = kmeans(sampled_descriptors, k, 1)"
   ]
  },
  {
   "cell_type": "code",
   "execution_count": 16,
   "id": "f8f2f192",
   "metadata": {
    "id": "f8f2f192"
   },
   "outputs": [],
   "source": [
    "# Calculate the histogram of features and represent them as vector\n",
    "im_features = quantisation(image_paths,descriptor_list, k, voc, scaler)"
   ]
  },
  {
   "cell_type": "code",
   "execution_count": 28,
   "id": "042f9675-b0e1-47be-84c1-3c2a2e650e0c",
   "metadata": {},
   "outputs": [],
   "source": [
    "#print(im_features[-1:])"
   ]
  },
  {
   "cell_type": "markdown",
   "id": "8f55f7da",
   "metadata": {
    "id": "8f55f7da"
   },
   "source": [
    "### One-vs-Rest Classifier"
   ]
  },
  {
   "cell_type": "code",
   "execution_count": 32,
   "id": "1eada0ef",
   "metadata": {
    "id": "1eada0ef"
   },
   "outputs": [],
   "source": [
    "min_max_scaler = preprocessing.MinMaxScaler()\n",
    "im_features_minmax = min_max_scaler.fit_transform(im_features)\n",
    "\n",
    "model = LogisticRegression(multi_class='ovr', max_iter=100)\n",
    "model.fit(im_features_minmax, image_classes)"
   ]
  },
  {
   "cell_type": "code",
   "execution_count": 34,
   "id": "64d00fb3-eef7-4609-be97-c00907f3cbe5",
   "metadata": {},
   "outputs": [
    {
     "name": "stdout",
     "output_type": "stream",
     "text": [
      "0.8933333333333333\n"
     ]
    }
   ],
   "source": [
    "score = model.score(im_features_minmax, image_classes)\n",
    "print(score)"
   ]
  },
  {
   "cell_type": "markdown",
   "id": "6d3284c4",
   "metadata": {
    "id": "6d3284c4"
   },
   "source": [
    "### To Validate using Test data"
   ]
  },
  {
   "cell_type": "code",
   "execution_count": null,
   "id": "24dd6011",
   "metadata": {
    "id": "24dd6011"
   },
   "outputs": [],
   "source": [
    "test_path = 'images/testing'\n",
    "testing_names = os.listdir(test_path)\n",
    "\n",
    "test_image_paths = []\n",
    "test_image_classes = []\n",
    "test_class_id = 0\n",
    "\n",
    "for testing_name in testing_names:\n",
    "    test_dir = os.path.join(test_path, testing_name)\n",
    "    test_image_paths.append(test_dir)\n",
    "    \n",
    "test_descriptor_list = getDescriptors(test_image_paths)\n",
    "test_descriptors_float = descriptorFormation(test_descriptor_list)"
   ]
  },
  {
   "cell_type": "code",
   "execution_count": null,
   "id": "a3bd3a67",
   "metadata": {
    "id": "a3bd3a67"
   },
   "outputs": [],
   "source": [
    "test_im_features = quantisation(image_paths,descriptor_list)\n",
    "test_im_features = stdSlr.transform(test_im_features)"
   ]
  }
 ],
 "metadata": {
  "accelerator": "GPU",
  "colab": {
   "name": "Run2.ipynb",
   "provenance": []
  },
  "kernelspec": {
   "display_name": "Python 3",
   "language": "python",
   "name": "python3"
  },
  "language_info": {
   "codemirror_mode": {
    "name": "ipython",
    "version": 3
   },
   "file_extension": ".py",
   "mimetype": "text/x-python",
   "name": "python",
   "nbconvert_exporter": "python",
   "pygments_lexer": "ipython3",
   "version": "3.8.8"
  }
 },
 "nbformat": 4,
 "nbformat_minor": 5
}
