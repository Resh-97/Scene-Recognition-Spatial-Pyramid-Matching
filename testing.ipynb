{
 "cells": [
  {
   "cell_type": "code",
   "execution_count": 26,
   "metadata": {},
   "outputs": [],
   "source": [
    "import numpy as np\n",
    "from importlib import reload\n",
    "import matplotlib.pyplot as plt\n",
    "from torch.utils.data import DataLoader\n",
    "from sklearn.model_selection import train_test_split\n",
    "from utils import create_dataset, show_misclassified, get_percent_misclassified\n",
    "from features import run3_SIFT_transforms\n",
    "from classifiers import KNearestNeighbors\n",
    "from sklearn.svm import SVC\n",
    "from sklearn.ensemble import RandomForestClassifier"
   ]
  },
  {
   "cell_type": "code",
   "execution_count": 2,
   "metadata": {},
   "outputs": [],
   "source": [
    "transform = run3_SIFT_transforms()\n",
    "dataset = create_dataset(\"./training/\", transform, labeled=True)\n",
    "dataloader = DataLoader(dataset, batch_size=len(dataset), shuffle=True)\n",
    "\n",
    "\n",
    "# load labeled data \n",
    "X, y, paths, path_class_idxs = next(iter(dataloader))\n",
    "X=X.numpy()\n",
    "y=y.numpy()"
   ]
  },
  {
   "cell_type": "code",
   "execution_count": 3,
   "metadata": {},
   "outputs": [
    {
     "data": {
      "text/plain": [
       "(1500, 1, 2601, 128)"
      ]
     },
     "execution_count": 3,
     "metadata": {},
     "output_type": "execute_result"
    }
   ],
   "source": [
    "X.shape"
   ]
  },
  {
   "cell_type": "code",
   "execution_count": null,
   "metadata": {},
   "outputs": [],
   "source": []
  },
  {
   "cell_type": "code",
   "execution_count": 4,
   "metadata": {},
   "outputs": [],
   "source": [
    "import features"
   ]
  },
  {
   "cell_type": "code",
   "execution_count": 15,
   "metadata": {},
   "outputs": [],
   "source": [
    "features = reload(features)"
   ]
  },
  {
   "cell_type": "code",
   "execution_count": 16,
   "metadata": {},
   "outputs": [
    {
     "name": "stdout",
     "output_type": "stream",
     "text": [
      "(1500, 1, 2601, 128)\n",
      "(3901500, 128)\n"
     ]
    }
   ],
   "source": [
    "X_bovw = features.get_bovw(X, num_clusters=200)"
   ]
  },
  {
   "cell_type": "code",
   "execution_count": 18,
   "metadata": {},
   "outputs": [],
   "source": [
    "X_train, X_val, y_train, y_val, paths_train, paths_val = train_test_split(X_bovw,y, paths, test_size=0.2, stratify=y)"
   ]
  },
  {
   "cell_type": "code",
   "execution_count": 19,
   "metadata": {},
   "outputs": [
    {
     "name": "stdout",
     "output_type": "stream",
     "text": [
      "Best parameters: {'n_jobs': -1, 'n_neighbors': 23}\n",
      "\n",
      "Best score: 0.5096007986295992\n",
      "\n"
     ]
    }
   ],
   "source": [
    "classifier_hparams = {'n_neighbors':2, 'n_jobs':-1}\n",
    "# params for instantiating classifier\n",
    "# parameter grid to search over when tuning classifier\n",
    "param_grid = {\n",
    "    'n_neighbors':[i for i in range(1, 25)],\n",
    "    'n_jobs':[-1]\n",
    "}\n",
    "classifier = KNearestNeighbors(**classifier_hparams)\n",
    "best_score, best_params = classifier.tune(\n",
    "    X_train,\n",
    "    y_train, \n",
    "    param_grid=param_grid\n",
    "    ) # tunes classifier and writes to metrics file\n",
    "print(f\"Best parameters: {best_params}\\n\")\n",
    "print(f\"Best score: {best_score}\\n\")"
   ]
  },
  {
   "cell_type": "code",
   "execution_count": 24,
   "metadata": {},
   "outputs": [
    {
     "data": {
      "text/plain": [
       "SVC()"
      ]
     },
     "execution_count": 24,
     "metadata": {},
     "output_type": "execute_result"
    }
   ],
   "source": [
    "# what about an SVM?\n",
    "lin_clf = SVC()\n",
    "lin_clf.fit(X_train, y_train)\n"
   ]
  },
  {
   "cell_type": "code",
   "execution_count": 25,
   "metadata": {},
   "outputs": [
    {
     "data": {
      "text/plain": [
       "0.5866666666666667"
      ]
     },
     "execution_count": 25,
     "metadata": {},
     "output_type": "execute_result"
    }
   ],
   "source": [
    "lin_clf.score(X_val, y_val)"
   ]
  },
  {
   "cell_type": "code",
   "execution_count": 33,
   "metadata": {},
   "outputs": [
    {
     "data": {
      "text/plain": [
       "RandomForestClassifier(min_samples_leaf=10, n_jobs=-1)"
      ]
     },
     "execution_count": 33,
     "metadata": {},
     "output_type": "execute_result"
    }
   ],
   "source": [
    "# what about a random forest classifier?\n",
    "clf = RandomForestClassifier(n_jobs=-1, min_samples_leaf=10)\n",
    "clf.fit(X_train, y_train)"
   ]
  },
  {
   "cell_type": "code",
   "execution_count": 34,
   "metadata": {},
   "outputs": [
    {
     "data": {
      "text/plain": [
       "0.5933333333333334"
      ]
     },
     "execution_count": 34,
     "metadata": {},
     "output_type": "execute_result"
    }
   ],
   "source": [
    "clf.score(X_val, y_val)"
   ]
  },
  {
   "cell_type": "code",
   "execution_count": null,
   "metadata": {},
   "outputs": [],
   "source": []
  }
 ],
 "metadata": {
  "interpreter": {
   "hash": "3a159f3d7259271d9c6bee1e207b326c03fc4449d48cb84e6f55359e1dab3648"
  },
  "kernelspec": {
   "display_name": "Python 3.8.4 64-bit ('deeplearningTorch')",
   "language": "python",
   "name": "python3"
  },
  "language_info": {
   "codemirror_mode": {
    "name": "ipython",
    "version": 3
   },
   "file_extension": ".py",
   "mimetype": "text/x-python",
   "name": "python",
   "nbconvert_exporter": "python",
   "pygments_lexer": "ipython3",
   "version": "3.8.4"
  },
  "orig_nbformat": 4
 },
 "nbformat": 4,
 "nbformat_minor": 2
}
