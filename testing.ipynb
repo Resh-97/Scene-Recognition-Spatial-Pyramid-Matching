{
 "cells": [
  {
   "cell_type": "code",
   "execution_count": 2,
   "metadata": {},
   "outputs": [],
   "source": [
    "import numpy as np\n",
    "from importlib import reload\n",
    "import pandas as pd\n",
    "import matplotlib.pyplot as plt\n",
    "from torch.utils.data import DataLoader\n",
    "from sklearn.model_selection import train_test_split\n",
    "from utils import create_dataset, show_misclassified, get_percent_misclassified\n",
    "from features import run3_SIFT_transforms\n",
    "from classifiers import KNearestNeighbors, SupportVectorClassifer\n",
    "from sklearn.svm import SVC\n",
    "from sklearn.ensemble import RandomForestClassifier"
   ]
  },
  {
   "cell_type": "code",
   "execution_count": 6,
   "metadata": {},
   "outputs": [],
   "source": [
    "transform = run3_SIFT_transforms(step_size=4)\n",
    "dataset = create_dataset(\"./training/\", transform, labeled=True)\n",
    "dataloader = DataLoader(dataset, batch_size=len(dataset), shuffle=True)\n",
    "\n",
    "\n",
    "# load labeled data \n",
    "X, y, paths, path_class_idxs = next(iter(dataloader))\n",
    "X=X.numpy()\n",
    "y=y.numpy()"
   ]
  },
  {
   "cell_type": "code",
   "execution_count": 3,
   "metadata": {},
   "outputs": [],
   "source": [
    "df = pd.DataFrame({'crop':[50, 100, 150, 200], 'score':[0.158, 0.20, 0.201, 0.24]})"
   ]
  },
  {
   "cell_type": "code",
   "execution_count": 14,
   "metadata": {},
   "outputs": [
    {
     "data": {
      "text/plain": [
       "<Figure size 432x288 with 0 Axes>"
      ]
     },
     "metadata": {},
     "output_type": "display_data"
    },
    {
     "data": {
      "image/png": "[encoded data removed]",
      "text/plain": [
       "<Figure size 432x288 with 1 Axes>"
      ]
     },
     "metadata": {
      "needs_background": "light"
     },
     "output_type": "display_data"
    }
   ],
   "source": [
    "plt.figure()\n",
    "df.plot(x=\"crop\", y='score', label='average precision').get_figure().savefig('prec_vs_crop.jpg')"
   ]
  },
  {
   "cell_type": "code",
   "execution_count": 13,
   "metadata": {},
   "outputs": [],
   "source": [
    "import classifiers"
   ]
  },
  {
   "cell_type": "code",
   "execution_count": 23,
   "metadata": {},
   "outputs": [],
   "source": [
    "classifiers = reload(classifiers)"
   ]
  },
  {
   "cell_type": "code",
   "execution_count": 9,
   "metadata": {},
   "outputs": [
    {
     "name": "stdout",
     "output_type": "stream",
     "text": [
      "(1500, 1, 4096, 128)\n",
      "(6144000, 128)\n"
     ]
    }
   ],
   "source": [
    "X_bovw = features.get_bovw(X, num_clusters=10)"
   ]
  },
  {
   "cell_type": "code",
   "execution_count": 11,
   "metadata": {},
   "outputs": [],
   "source": [
    "X_train, X_val, y_train, y_val, paths_train, paths_val = train_test_split(X_bovw, y, paths, test_size=0.2, stratify=y)"
   ]
  },
  {
   "cell_type": "code",
   "execution_count": 24,
   "metadata": {},
   "outputs": [
    {
     "name": "stderr",
     "output_type": "stream",
     "text": [
      "/Users/gavinayres/.pyenv/versions/3.8.4/envs/deeplearningTorch/lib/python3.8/site-packages/sklearn/metrics/_classification.py:1318: UndefinedMetricWarning: Precision is ill-defined and being set to 0.0 due to no predicted samples. Use `zero_division` parameter to control this behavior.\n",
      "  _warn_prf(average, modifier, msg_start, len(result))\n",
      "/Users/gavinayres/.pyenv/versions/3.8.4/envs/deeplearningTorch/lib/python3.8/site-packages/sklearn/metrics/_classification.py:1318: UndefinedMetricWarning: Precision is ill-defined and being set to 0.0 due to no predicted samples. Use `zero_division` parameter to control this behavior.\n",
      "  _warn_prf(average, modifier, msg_start, len(result))\n",
      "/Users/gavinayres/.pyenv/versions/3.8.4/envs/deeplearningTorch/lib/python3.8/site-packages/sklearn/metrics/_classification.py:1318: UndefinedMetricWarning: Precision is ill-defined and being set to 0.0 due to no predicted samples. Use `zero_division` parameter to control this behavior.\n",
      "  _warn_prf(average, modifier, msg_start, len(result))\n",
      "/Users/gavinayres/.pyenv/versions/3.8.4/envs/deeplearningTorch/lib/python3.8/site-packages/sklearn/metrics/_classification.py:1318: UndefinedMetricWarning: Precision is ill-defined and being set to 0.0 due to no predicted samples. Use `zero_division` parameter to control this behavior.\n",
      "  _warn_prf(average, modifier, msg_start, len(result))\n",
      "/Users/gavinayres/.pyenv/versions/3.8.4/envs/deeplearningTorch/lib/python3.8/site-packages/sklearn/metrics/_classification.py:1318: UndefinedMetricWarning: Precision is ill-defined and being set to 0.0 due to no predicted samples. Use `zero_division` parameter to control this behavior.\n",
      "  _warn_prf(average, modifier, msg_start, len(result))\n",
      "/Users/gavinayres/.pyenv/versions/3.8.4/envs/deeplearningTorch/lib/python3.8/site-packages/sklearn/metrics/_classification.py:1318: UndefinedMetricWarning: Precision is ill-defined and being set to 0.0 due to no predicted samples. Use `zero_division` parameter to control this behavior.\n",
      "  _warn_prf(average, modifier, msg_start, len(result))\n",
      "/Users/gavinayres/.pyenv/versions/3.8.4/envs/deeplearningTorch/lib/python3.8/site-packages/sklearn/metrics/_classification.py:1318: UndefinedMetricWarning: Precision is ill-defined and being set to 0.0 due to no predicted samples. Use `zero_division` parameter to control this behavior.\n",
      "  _warn_prf(average, modifier, msg_start, len(result))\n",
      "/Users/gavinayres/.pyenv/versions/3.8.4/envs/deeplearningTorch/lib/python3.8/site-packages/sklearn/metrics/_classification.py:1318: UndefinedMetricWarning: Precision is ill-defined and being set to 0.0 due to no predicted samples. Use `zero_division` parameter to control this behavior.\n",
      "  _warn_prf(average, modifier, msg_start, len(result))\n",
      "/Users/gavinayres/.pyenv/versions/3.8.4/envs/deeplearningTorch/lib/python3.8/site-packages/sklearn/metrics/_classification.py:1318: UndefinedMetricWarning: Precision is ill-defined and being set to 0.0 due to no predicted samples. Use `zero_division` parameter to control this behavior.\n",
      "  _warn_prf(average, modifier, msg_start, len(result))\n",
      "/Users/gavinayres/.pyenv/versions/3.8.4/envs/deeplearningTorch/lib/python3.8/site-packages/sklearn/metrics/_classification.py:1318: UndefinedMetricWarning: Precision is ill-defined and being set to 0.0 due to no predicted samples. Use `zero_division` parameter to control this behavior.\n",
      "  _warn_prf(average, modifier, msg_start, len(result))\n",
      "/Users/gavinayres/.pyenv/versions/3.8.4/envs/deeplearningTorch/lib/python3.8/site-packages/sklearn/metrics/_classification.py:1318: UndefinedMetricWarning: Precision is ill-defined and being set to 0.0 due to no predicted samples. Use `zero_division` parameter to control this behavior.\n",
      "  _warn_prf(average, modifier, msg_start, len(result))\n",
      "/Users/gavinayres/.pyenv/versions/3.8.4/envs/deeplearningTorch/lib/python3.8/site-packages/sklearn/metrics/_classification.py:1318: UndefinedMetricWarning: Precision is ill-defined and being set to 0.0 due to no predicted samples. Use `zero_division` parameter to control this behavior.\n",
      "  _warn_prf(average, modifier, msg_start, len(result))\n",
      "/Users/gavinayres/.pyenv/versions/3.8.4/envs/deeplearningTorch/lib/python3.8/site-packages/sklearn/metrics/_classification.py:1318: UndefinedMetricWarning: Precision is ill-defined and being set to 0.0 due to no predicted samples. Use `zero_division` parameter to control this behavior.\n",
      "  _warn_prf(average, modifier, msg_start, len(result))\n",
      "/Users/gavinayres/.pyenv/versions/3.8.4/envs/deeplearningTorch/lib/python3.8/site-packages/sklearn/metrics/_classification.py:1318: UndefinedMetricWarning: Precision is ill-defined and being set to 0.0 due to no predicted samples. Use `zero_division` parameter to control this behavior.\n",
      "  _warn_prf(average, modifier, msg_start, len(result))\n",
      "/Users/gavinayres/.pyenv/versions/3.8.4/envs/deeplearningTorch/lib/python3.8/site-packages/sklearn/metrics/_classification.py:1318: UndefinedMetricWarning: Precision is ill-defined and being set to 0.0 due to no predicted samples. Use `zero_division` parameter to control this behavior.\n",
      "  _warn_prf(average, modifier, msg_start, len(result))\n",
      "/Users/gavinayres/.pyenv/versions/3.8.4/envs/deeplearningTorch/lib/python3.8/site-packages/sklearn/model_selection/_validation.py:372: FitFailedWarning: \n",
      "25 fits failed out of a total of 55.\n",
      "The score on these train-test partitions for these parameters will be set to nan.\n",
      "If these failures are not expected, you can try to debug them by setting error_score='raise'.\n",
      "\n",
      "Below are more details about the failures:\n",
      "--------------------------------------------------------------------------------\n",
      "25 fits failed with the following error:\n",
      "Traceback (most recent call last):\n",
      "  File \"/Users/gavinayres/.pyenv/versions/3.8.4/envs/deeplearningTorch/lib/python3.8/site-packages/sklearn/model_selection/_validation.py\", line 680, in _fit_and_score\n",
      "    estimator.fit(X_train, y_train, **fit_params)\n",
      "  File \"/Users/gavinayres/.pyenv/versions/3.8.4/envs/deeplearningTorch/lib/python3.8/site-packages/sklearn/svm/_base.py\", line 255, in fit\n",
      "    fit(X, y, sample_weight, solver_type, kernel, random_seed=seed)\n",
      "  File \"/Users/gavinayres/.pyenv/versions/3.8.4/envs/deeplearningTorch/lib/python3.8/site-packages/sklearn/svm/_base.py\", line 315, in _dense_fit\n",
      "    ) = libsvm.fit(\n",
      "  File \"sklearn/svm/_libsvm.pyx\", line 58, in sklearn.svm._libsvm.fit\n",
      "TypeError: must be real number, not list\n",
      "\n",
      "  warnings.warn(some_fits_failed_message, FitFailedWarning)\n",
      "/Users/gavinayres/.pyenv/versions/3.8.4/envs/deeplearningTorch/lib/python3.8/site-packages/sklearn/model_selection/_search.py:969: UserWarning: One or more of the test scores are non-finite: [0.3456932  0.34654315 0.34342903 0.36384325 0.39322222 0.39377908\n",
      "        nan        nan        nan        nan        nan]\n",
      "  warnings.warn(\n"
     ]
    }
   ],
   "source": [
    "classifier_name = 'SVC'\n",
    "classifier_hparams = {'C':[1e-2, 1e-1, 1, 500, 1e2, 1e3]}\n",
    "# params for instantiating classifier\n",
    "# parameter grid to search over when tuning classifier\n",
    "param_grid = [\n",
    "        {'C':[2**i for i in range(-5, 1)]}, \n",
    "        {'kernel': ['linear', 'poly', 'rbf', 'sigmoid']},\n",
    "        {'random_state':[10]}\n",
    "]\n",
    "classifier = classifiers.SupportVectorClassifer(**classifier_hparams)\n",
    "best_score, best_params = classifier.tune(\n",
    "    X_train,\n",
    "    y_train, \n",
    "    param_grid=param_grid\n",
    "    ) # tunes classifier and writes to metrics file"
   ]
  },
  {
   "cell_type": "code",
   "execution_count": 19,
   "metadata": {},
   "outputs": [
    {
     "name": "stdout",
     "output_type": "stream",
     "text": [
      "Best parameters: {'n_jobs': -1, 'n_neighbors': 23}\n",
      "\n",
      "Best score: 0.5096007986295992\n",
      "\n"
     ]
    }
   ],
   "source": [
    "classifier_hparams = {'n_neighbors':2, 'n_jobs':-1}\n",
    "# params for instantiating classifier\n",
    "# parameter grid to search over when tuning classifier\n",
    "param_grid = {\n",
    "    'n_neighbors':[i for i in range(1, 25)],\n",
    "    'n_jobs':[-1]\n",
    "}\n",
    "classifier = KNearestNeighbors(**classifier_hparams)\n",
    "best_score, best_params = classifier.tune(\n",
    "    X_train,\n",
    "    y_train, \n",
    "    param_grid=param_grid\n",
    "    ) # tunes classifier and writes to metrics file\n",
    "print(f\"Best parameters: {best_params}\\n\")\n",
    "print(f\"Best score: {best_score}\\n\")"
   ]
  },
  {
   "cell_type": "code",
   "execution_count": 24,
   "metadata": {},
   "outputs": [
    {
     "data": {
      "text/plain": [
       "SVC()"
      ]
     },
     "execution_count": 24,
     "metadata": {},
     "output_type": "execute_result"
    }
   ],
   "source": [
    "# what about an SVM?\n",
    "lin_clf = SVC()\n",
    "lin_clf.fit(X_train, y_train)\n"
   ]
  },
  {
   "cell_type": "code",
   "execution_count": 25,
   "metadata": {},
   "outputs": [
    {
     "data": {
      "text/plain": [
       "0.5866666666666667"
      ]
     },
     "execution_count": 25,
     "metadata": {},
     "output_type": "execute_result"
    }
   ],
   "source": [
    "lin_clf.score(X_val, y_val)"
   ]
  },
  {
   "cell_type": "code",
   "execution_count": 33,
   "metadata": {},
   "outputs": [
    {
     "data": {
      "text/plain": [
       "RandomForestClassifier(min_samples_leaf=10, n_jobs=-1)"
      ]
     },
     "execution_count": 33,
     "metadata": {},
     "output_type": "execute_result"
    }
   ],
   "source": [
    "# what about a random forest classifier?\n",
    "clf = RandomForestClassifier(n_jobs=-1, min_samples_leaf=10)\n",
    "clf.fit(X_train, y_train)"
   ]
  },
  {
   "cell_type": "code",
   "execution_count": 34,
   "metadata": {},
   "outputs": [
    {
     "data": {
      "text/plain": [
       "0.5933333333333334"
      ]
     },
     "execution_count": 34,
     "metadata": {},
     "output_type": "execute_result"
    }
   ],
   "source": [
    "clf.score(X_val, y_val)"
   ]
  },
  {
   "cell_type": "code",
   "execution_count": null,
   "metadata": {},
   "outputs": [],
   "source": []
  }
 ],
 "metadata": {
  "interpreter": {
   "hash": "3a159f3d7259271d9c6bee1e207b326c03fc4449d48cb84e6f55359e1dab3648"
  },
  "kernelspec": {
   "display_name": "Python 3.8.4 64-bit ('deeplearningTorch')",
   "language": "python",
   "name": "python3"
  },
  "language_info": {
   "codemirror_mode": {
    "name": "ipython",
    "version": 3
   },
   "file_extension": ".py",
   "mimetype": "text/x-python",
   "name": "python",
   "nbconvert_exporter": "python",
   "pygments_lexer": "ipython3",
   "version": "3.8.4"
  },
  "orig_nbformat": 4
 },
 "nbformat": 4,
 "nbformat_minor": 2
}
